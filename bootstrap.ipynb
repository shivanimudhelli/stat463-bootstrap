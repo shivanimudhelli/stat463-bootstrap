{
 "cells": [
  {
   "cell_type": "code",
   "execution_count": 14,
   "metadata": {},
   "outputs": [],
   "source": [
    "import pandas as pd\n",
    "import numpy as np\n",
    "from statistics import variance\n",
    "import seaborn as sns\n",
    "import matplotlib.pyplot as plt"
   ]
  },
  {
   "cell_type": "code",
   "execution_count": 15,
   "metadata": {},
   "outputs": [],
   "source": [
    "data = pd.read_csv(\"/Users/shivanimudhelli/Downloads/US_births_1994-2003_CDC_NCHS.csv\", header=0)\n"
   ]
  },
  {
   "cell_type": "code",
   "execution_count": 16,
   "metadata": {},
   "outputs": [
    {
     "name": "stdout",
     "output_type": "stream",
     "text": [
      "sample mean: 3310178.0833333335\n",
      "sample variance: 21066456772.083332\n"
     ]
    }
   ],
   "source": [
    "data_mth = pd.DataFrame(data.groupby(by= 'month')[\"births\"].sum())\n",
    "births = data_mth[\"births\"]\n",
    "birth_mean = births.mean()\n",
    "birth_var = variance(births)\n",
    "print('sample mean:', birth_mean)\n",
    "print('sample variance:', birth_var)\n"
   ]
  },
  {
   "cell_type": "code",
   "execution_count": 17,
   "metadata": {},
   "outputs": [
    {
     "data": {
      "text/plain": [
       "<AxesSubplot: >"
      ]
     },
     "execution_count": 17,
     "metadata": {},
     "output_type": "execute_result"
    },
    {
     "data": {
      "image/png": "[encoded data removed]",
      "text/plain": [
       "<Figure size 432x288 with 1 Axes>"
      ]
     },
     "metadata": {
      "needs_background": "light"
     },
     "output_type": "display_data"
    }
   ],
   "source": [
    "# quartiles for birth data 2000 to 2004\n",
    "sns.boxplot(pd.DataFrame(births))\n"
   ]
  },
  {
   "cell_type": "code",
   "execution_count": 18,
   "metadata": {},
   "outputs": [
    {
     "name": "stdout",
     "output_type": "stream",
     "text": [
      "Actual IQR:  173318.75\n",
      "Actual MAD:  109176.75\n"
     ]
    }
   ],
   "source": [
    "# actual values\n",
    "q3_a, q1_a = np.percentile(births, [75,25])\n",
    "iqr_actual = q3_a-q1_a\n",
    "print('Actual IQR: ', iqr_actual)\n",
    "\n",
    "mad_actual = births.mad()\n",
    "print('Actual MAD: ', mad_actual)"
   ]
  },
  {
   "cell_type": "code",
   "execution_count": 19,
   "metadata": {},
   "outputs": [
    {
     "name": "stdout",
     "output_type": "stream",
     "text": [
      "mean of samples IQR: 169853.90715\n",
      "variance of samples IQR: 4375526873.131442\n"
     ]
    }
   ],
   "source": [
    "# bootstrap for iqr\n",
    "sample_iqr = []\n",
    "for j in range(0,10000):\n",
    "    boot_samples = births.sample(n=12, replace=True)\n",
    "    q3, q1 = np.percentile(boot_samples, [75,25])\n",
    "    boot_iqr = q3 - q1\n",
    "    sample_iqr.append(boot_iqr)\n",
    "\n",
    "print('mean of samples IQR:', np.mean(sample_iqr))\n",
    "print('variance of samples IQR:', variance(sample_iqr))"
   ]
  },
  {
   "cell_type": "code",
   "execution_count": 20,
   "metadata": {},
   "outputs": [
    {
     "data": {
      "text/plain": [
       "Text(0, 0.5, 'Frequency')"
      ]
     },
     "execution_count": 20,
     "metadata": {},
     "output_type": "execute_result"
    },
    {
     "data": {
      "image/png": "[encoded data removed]",
      "text/plain": [
       "<Figure size 432x288 with 1 Axes>"
      ]
     },
     "metadata": {
      "needs_background": "light"
     },
     "output_type": "display_data"
    }
   ],
   "source": [
    "# plot iqr of resamples\n",
    "ax1 = plt.hist(sample_iqr, bins = 100, edgecolor='black', color = 'green')\n",
    "plt.title(\"IQR Bootstrap Distribution (10,000 resamples)\")\n",
    "plt.xlabel(\"Interquartile Range\")\n",
    "plt.ylabel(\"Frequency\")\n"
   ]
  },
  {
   "cell_type": "code",
   "execution_count": 21,
   "metadata": {},
   "outputs": [
    {
     "name": "stdout",
     "output_type": "stream",
     "text": [
      "mean of samples MAD: 106283.45264444443\n",
      "variance of samples MAD: 581204513.6104468\n",
      "True\n"
     ]
    }
   ],
   "source": [
    "# bootstrap for mad\n",
    "sample_mad = []\n",
    "for k in range(0,10000):\n",
    "    boot_samples2 = births.sample(n=12, replace=True)\n",
    "    boot_mad = boot_samples2.mad()\n",
    "    sample_mad.append(boot_mad)\n",
    "    \n",
    "print('mean of samples MAD:',np.mean(sample_mad))\n",
    "print('variance of samples MAD:', variance(sample_mad))\n",
    "\n",
    "print(variance(sample_iqr) > variance(sample_mad))"
   ]
  },
  {
   "cell_type": "code",
   "execution_count": 22,
   "metadata": {},
   "outputs": [
    {
     "name": "stdout",
     "output_type": "stream",
     "text": [
      "bias for IQR: -3464.8428499999864\n",
      "bias for MAD: -2893.2973555555654\n"
     ]
    }
   ],
   "source": [
    "print('bias for IQR:', np.mean(sample_iqr)-iqr_actual)\n",
    "print('bias for MAD:', np.mean(sample_mad)-mad_actual)"
   ]
  },
  {
   "cell_type": "code",
   "execution_count": 23,
   "metadata": {},
   "outputs": [
    {
     "data": {
      "text/plain": [
       "Text(0, 0.5, 'Frequency')"
      ]
     },
     "execution_count": 23,
     "metadata": {},
     "output_type": "execute_result"
    },
    {
     "data": {
      "image/png": "[encoded data removed]",
      "text/plain": [
       "<Figure size 432x288 with 1 Axes>"
      ]
     },
     "metadata": {
      "needs_background": "light"
     },
     "output_type": "display_data"
    }
   ],
   "source": [
    "# plot mad of resamples\n",
    "ax2 = plt.hist(sample_mad, bins = 100, edgecolor='black', color = 'purple')\n",
    "plt.title(\"MAD Bootstrap Distribution (10,000 resamples)\")\n",
    "plt.xlabel(\"Mean Absolute Deviation\")\n",
    "plt.ylabel(\"Frequency\")"
   ]
  }
 ],
 "metadata": {
  "kernelspec": {
   "display_name": "Python 3",
   "language": "python",
   "name": "python3"
  },
  "language_info": {
   "codemirror_mode": {
    "name": "ipython",
    "version": 3
   },
   "file_extension": ".py",
   "mimetype": "text/x-python",
   "name": "python",
   "nbconvert_exporter": "python",
   "pygments_lexer": "ipython3",
   "version": "3.10.4"
  },
  "orig_nbformat": 4
 },
 "nbformat": 4,
 "nbformat_minor": 2
}
